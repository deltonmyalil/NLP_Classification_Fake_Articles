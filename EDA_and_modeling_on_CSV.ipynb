{
 "cells": [
  {
   "cell_type": "markdown",
   "metadata": {},
   "source": [
    "# Machine Learning Lab Project"
   ]
  },
  {
   "cell_type": "markdown",
   "metadata": {},
   "source": [
    "Submitted by<br>Amrit Majumder - 18MCMI01<br>Delton M Antony - 18MCMI05<br>Ashutosh Mahawar - 18MCMI23"
   ]
  },
  {
   "cell_type": "markdown",
   "metadata": {},
   "source": [
    "# Aim"
   ]
  },
  {
   "cell_type": "markdown",
   "metadata": {},
   "source": [
    "To explore Fact Extraction and Verification data and do EDA and modeling on it."
   ]
  },
  {
   "cell_type": "markdown",
   "metadata": {},
   "source": [
    "# Requirements"
   ]
  },
  {
   "cell_type": "markdown",
   "metadata": {},
   "source": [
    "Python3.7<br>Anaconda 5"
   ]
  },
  {
   "cell_type": "markdown",
   "metadata": {},
   "source": [
    "Note: As a prerequisite, we have used the extracted data from<br>https://github.com/cdmalon/fever2018-retrieval/tree/90a07fe85b418de5ab62de8eaa2572df0d93f51e\n",
    "by using<br> $ bash scripts/download-processed-wiki.sh which downloads the 4.1 GB data. Here I am using only titles as input for EDA and classification scraped from the data into csv. Files can be found in the data folder in the root directory of this project.<br>Credits to the github user cdmalon https://github.com/cdmalon"
   ]
  },
  {
   "cell_type": "markdown",
   "metadata": {},
   "source": [
    "The following notebook is under the assumption that we already have the title dataset scraped by cdmalon (link above)"
   ]
  },
  {
   "cell_type": "markdown",
   "metadata": {},
   "source": [
    "# Procedure"
   ]
  },
  {
   "cell_type": "markdown",
   "metadata": {},
   "source": [
    "Reading the data"
   ]
  },
  {
   "cell_type": "code",
   "execution_count": 1,
   "metadata": {},
   "outputs": [],
   "source": [
    "import pandas as pd\n",
    "# Fake news\n",
    "df_onion = pd.read_csv('./data/the_onion.csv')\n",
    "# Genuine News\n",
    "df_not_onion = pd.read_csv('./data/not_onion.csv')"
   ]
  },
  {
   "cell_type": "code",
   "execution_count": 2,
   "metadata": {},
   "outputs": [],
   "source": [
    "fake_dataset = df_onion.rename(index=str, columns={\"subreddit\": \"target\"})"
   ]
  },
  {
   "cell_type": "code",
   "execution_count": 3,
   "metadata": {},
   "outputs": [],
   "source": [
    "fake_dataset = fake_dataset.drop('target', axis=1)"
   ]
  },
  {
   "cell_type": "code",
   "execution_count": 4,
   "metadata": {},
   "outputs": [],
   "source": [
    "fake_dataset['fake'] = 1"
   ]
  },
  {
   "cell_type": "code",
   "execution_count": 5,
   "metadata": {},
   "outputs": [
    {
     "data": {
      "text/html": [
       "<div>\n",
       "<style scoped>\n",
       "    .dataframe tbody tr th:only-of-type {\n",
       "        vertical-align: middle;\n",
       "    }\n",
       "\n",
       "    .dataframe tbody tr th {\n",
       "        vertical-align: top;\n",
       "    }\n",
       "\n",
       "    .dataframe thead th {\n",
       "        text-align: right;\n",
       "    }\n",
       "</style>\n",
       "<table border=\"1\" class=\"dataframe\">\n",
       "  <thead>\n",
       "    <tr style=\"text-align: right;\">\n",
       "      <th></th>\n",
       "      <th>Unnamed: 0</th>\n",
       "      <th>author</th>\n",
       "      <th>domain</th>\n",
       "      <th>num_comments</th>\n",
       "      <th>score</th>\n",
       "      <th>timestamp</th>\n",
       "      <th>title</th>\n",
       "      <th>fake</th>\n",
       "    </tr>\n",
       "  </thead>\n",
       "  <tbody>\n",
       "    <tr>\n",
       "      <th>0</th>\n",
       "      <td>0</td>\n",
       "      <td>Kotaay</td>\n",
       "      <td>google.ca</td>\n",
       "      <td>1</td>\n",
       "      <td>1</td>\n",
       "      <td>1554658622</td>\n",
       "      <td>Jack Nicholson Banned From Sitting Courtside A...</td>\n",
       "      <td>1</td>\n",
       "    </tr>\n",
       "    <tr>\n",
       "      <th>1</th>\n",
       "      <td>1</td>\n",
       "      <td>DisastrousCandy3</td>\n",
       "      <td>theonion.com</td>\n",
       "      <td>3</td>\n",
       "      <td>1</td>\n",
       "      <td>1554600149</td>\n",
       "      <td>NicoDerm Introduces New Nicotine Eye Patch</td>\n",
       "      <td>1</td>\n",
       "    </tr>\n",
       "    <tr>\n",
       "      <th>2</th>\n",
       "      <td>2</td>\n",
       "      <td>SlovenianCat</td>\n",
       "      <td>youtu.be</td>\n",
       "      <td>0</td>\n",
       "      <td>1</td>\n",
       "      <td>1554585700</td>\n",
       "      <td>Last Bastion Of U.S. Economy Succumbs To Pancr...</td>\n",
       "      <td>1</td>\n",
       "    </tr>\n",
       "    <tr>\n",
       "      <th>3</th>\n",
       "      <td>3</td>\n",
       "      <td>MyNameIsGriffon</td>\n",
       "      <td>sports.theonion.com</td>\n",
       "      <td>0</td>\n",
       "      <td>386</td>\n",
       "      <td>1554559311</td>\n",
       "      <td>Tom Izzo Calls 2019 Spartans Best Team He’s Ev...</td>\n",
       "      <td>1</td>\n",
       "    </tr>\n",
       "    <tr>\n",
       "      <th>4</th>\n",
       "      <td>4</td>\n",
       "      <td>MyNameIsGriffon</td>\n",
       "      <td>theonion.com</td>\n",
       "      <td>0</td>\n",
       "      <td>3</td>\n",
       "      <td>1554501708</td>\n",
       "      <td>House Democrats Formally Request Trump’s Tax R...</td>\n",
       "      <td>1</td>\n",
       "    </tr>\n",
       "  </tbody>\n",
       "</table>\n",
       "</div>"
      ],
      "text/plain": [
       "   Unnamed: 0            author               domain  num_comments  score  \\\n",
       "0           0            Kotaay            google.ca             1      1   \n",
       "1           1  DisastrousCandy3         theonion.com             3      1   \n",
       "2           2      SlovenianCat             youtu.be             0      1   \n",
       "3           3   MyNameIsGriffon  sports.theonion.com             0    386   \n",
       "4           4   MyNameIsGriffon         theonion.com             0      3   \n",
       "\n",
       "    timestamp                                              title  fake  \n",
       "0  1554658622  Jack Nicholson Banned From Sitting Courtside A...     1  \n",
       "1  1554600149         NicoDerm Introduces New Nicotine Eye Patch     1  \n",
       "2  1554585700  Last Bastion Of U.S. Economy Succumbs To Pancr...     1  \n",
       "3  1554559311  Tom Izzo Calls 2019 Spartans Best Team He’s Ev...     1  \n",
       "4  1554501708  House Democrats Formally Request Trump’s Tax R...     1  "
      ]
     },
     "execution_count": 5,
     "metadata": {},
     "output_type": "execute_result"
    }
   ],
   "source": [
    "fake_dataset.head()"
   ]
  },
  {
   "cell_type": "code",
   "execution_count": 6,
   "metadata": {},
   "outputs": [],
   "source": [
    "fake_dataset.to_csv('fake_data.csv')"
   ]
  },
  {
   "cell_type": "code",
   "execution_count": 7,
   "metadata": {},
   "outputs": [
    {
     "data": {
      "text/html": [
       "<div>\n",
       "<style scoped>\n",
       "    .dataframe tbody tr th:only-of-type {\n",
       "        vertical-align: middle;\n",
       "    }\n",
       "\n",
       "    .dataframe tbody tr th {\n",
       "        vertical-align: top;\n",
       "    }\n",
       "\n",
       "    .dataframe thead th {\n",
       "        text-align: right;\n",
       "    }\n",
       "</style>\n",
       "<table border=\"1\" class=\"dataframe\">\n",
       "  <thead>\n",
       "    <tr style=\"text-align: right;\">\n",
       "      <th></th>\n",
       "      <th>Unnamed: 0</th>\n",
       "      <th>author</th>\n",
       "      <th>domain</th>\n",
       "      <th>num_comments</th>\n",
       "      <th>score</th>\n",
       "      <th>subreddit</th>\n",
       "      <th>timestamp</th>\n",
       "      <th>title</th>\n",
       "    </tr>\n",
       "  </thead>\n",
       "  <tbody>\n",
       "    <tr>\n",
       "      <th>0</th>\n",
       "      <td>0</td>\n",
       "      <td>drak0bsidian</td>\n",
       "      <td>cnn.com</td>\n",
       "      <td>0</td>\n",
       "      <td>1</td>\n",
       "      <td>nottheonion</td>\n",
       "      <td>1554663925</td>\n",
       "      <td>Suspected rhino poacher is killed by an elepha...</td>\n",
       "    </tr>\n",
       "    <tr>\n",
       "      <th>1</th>\n",
       "      <td>1</td>\n",
       "      <td>somefaces</td>\n",
       "      <td>nypost.com</td>\n",
       "      <td>1</td>\n",
       "      <td>1</td>\n",
       "      <td>nottheonion</td>\n",
       "      <td>1554663648</td>\n",
       "      <td>Taliban commander turns himself in to collect ...</td>\n",
       "    </tr>\n",
       "    <tr>\n",
       "      <th>2</th>\n",
       "      <td>2</td>\n",
       "      <td>Sombez</td>\n",
       "      <td>nytimes.com</td>\n",
       "      <td>1</td>\n",
       "      <td>1</td>\n",
       "      <td>nottheonion</td>\n",
       "      <td>1554663558</td>\n",
       "      <td>Rhino Poacher Killed by Elephant and Eaten by ...</td>\n",
       "    </tr>\n",
       "    <tr>\n",
       "      <th>3</th>\n",
       "      <td>3</td>\n",
       "      <td>Bayou-Maharaja</td>\n",
       "      <td>ktoo.org</td>\n",
       "      <td>0</td>\n",
       "      <td>1</td>\n",
       "      <td>nottheonion</td>\n",
       "      <td>1554662778</td>\n",
       "      <td>Young shoves female reporter on way to Violenc...</td>\n",
       "    </tr>\n",
       "    <tr>\n",
       "      <th>4</th>\n",
       "      <td>4</td>\n",
       "      <td>phantommaster1999</td>\n",
       "      <td>buzz.ie</td>\n",
       "      <td>1</td>\n",
       "      <td>1</td>\n",
       "      <td>nottheonion</td>\n",
       "      <td>1554661988</td>\n",
       "      <td>Poacher hunting rhinos trampled to death by el...</td>\n",
       "    </tr>\n",
       "  </tbody>\n",
       "</table>\n",
       "</div>"
      ],
      "text/plain": [
       "   Unnamed: 0             author       domain  num_comments  score  \\\n",
       "0           0       drak0bsidian      cnn.com             0      1   \n",
       "1           1          somefaces   nypost.com             1      1   \n",
       "2           2             Sombez  nytimes.com             1      1   \n",
       "3           3     Bayou-Maharaja     ktoo.org             0      1   \n",
       "4           4  phantommaster1999      buzz.ie             1      1   \n",
       "\n",
       "     subreddit   timestamp                                              title  \n",
       "0  nottheonion  1554663925  Suspected rhino poacher is killed by an elepha...  \n",
       "1  nottheonion  1554663648  Taliban commander turns himself in to collect ...  \n",
       "2  nottheonion  1554663558  Rhino Poacher Killed by Elephant and Eaten by ...  \n",
       "3  nottheonion  1554662778  Young shoves female reporter on way to Violenc...  \n",
       "4  nottheonion  1554661988  Poacher hunting rhinos trampled to death by el...  "
      ]
     },
     "execution_count": 7,
     "metadata": {},
     "output_type": "execute_result"
    }
   ],
   "source": [
    "# previewing the genuine news\n",
    "df_not_onion.head()"
   ]
  },
  {
   "cell_type": "code",
   "execution_count": 8,
   "metadata": {},
   "outputs": [],
   "source": [
    "# Previewing the shape of the two datasets\n",
    "genuine_dataset = df_not_onion.drop('subreddit', axis=1)"
   ]
  },
  {
   "cell_type": "code",
   "execution_count": 9,
   "metadata": {},
   "outputs": [],
   "source": [
    "genuine_dataset['fake'] = 0"
   ]
  },
  {
   "cell_type": "code",
   "execution_count": 10,
   "metadata": {},
   "outputs": [
    {
     "data": {
      "text/html": [
       "<div>\n",
       "<style scoped>\n",
       "    .dataframe tbody tr th:only-of-type {\n",
       "        vertical-align: middle;\n",
       "    }\n",
       "\n",
       "    .dataframe tbody tr th {\n",
       "        vertical-align: top;\n",
       "    }\n",
       "\n",
       "    .dataframe thead th {\n",
       "        text-align: right;\n",
       "    }\n",
       "</style>\n",
       "<table border=\"1\" class=\"dataframe\">\n",
       "  <thead>\n",
       "    <tr style=\"text-align: right;\">\n",
       "      <th></th>\n",
       "      <th>Unnamed: 0</th>\n",
       "      <th>author</th>\n",
       "      <th>domain</th>\n",
       "      <th>num_comments</th>\n",
       "      <th>score</th>\n",
       "      <th>timestamp</th>\n",
       "      <th>title</th>\n",
       "      <th>fake</th>\n",
       "    </tr>\n",
       "  </thead>\n",
       "  <tbody>\n",
       "    <tr>\n",
       "      <th>0</th>\n",
       "      <td>0</td>\n",
       "      <td>drak0bsidian</td>\n",
       "      <td>cnn.com</td>\n",
       "      <td>0</td>\n",
       "      <td>1</td>\n",
       "      <td>1554663925</td>\n",
       "      <td>Suspected rhino poacher is killed by an elepha...</td>\n",
       "      <td>0</td>\n",
       "    </tr>\n",
       "    <tr>\n",
       "      <th>1</th>\n",
       "      <td>1</td>\n",
       "      <td>somefaces</td>\n",
       "      <td>nypost.com</td>\n",
       "      <td>1</td>\n",
       "      <td>1</td>\n",
       "      <td>1554663648</td>\n",
       "      <td>Taliban commander turns himself in to collect ...</td>\n",
       "      <td>0</td>\n",
       "    </tr>\n",
       "    <tr>\n",
       "      <th>2</th>\n",
       "      <td>2</td>\n",
       "      <td>Sombez</td>\n",
       "      <td>nytimes.com</td>\n",
       "      <td>1</td>\n",
       "      <td>1</td>\n",
       "      <td>1554663558</td>\n",
       "      <td>Rhino Poacher Killed by Elephant and Eaten by ...</td>\n",
       "      <td>0</td>\n",
       "    </tr>\n",
       "    <tr>\n",
       "      <th>3</th>\n",
       "      <td>3</td>\n",
       "      <td>Bayou-Maharaja</td>\n",
       "      <td>ktoo.org</td>\n",
       "      <td>0</td>\n",
       "      <td>1</td>\n",
       "      <td>1554662778</td>\n",
       "      <td>Young shoves female reporter on way to Violenc...</td>\n",
       "      <td>0</td>\n",
       "    </tr>\n",
       "    <tr>\n",
       "      <th>4</th>\n",
       "      <td>4</td>\n",
       "      <td>phantommaster1999</td>\n",
       "      <td>buzz.ie</td>\n",
       "      <td>1</td>\n",
       "      <td>1</td>\n",
       "      <td>1554661988</td>\n",
       "      <td>Poacher hunting rhinos trampled to death by el...</td>\n",
       "      <td>0</td>\n",
       "    </tr>\n",
       "  </tbody>\n",
       "</table>\n",
       "</div>"
      ],
      "text/plain": [
       "   Unnamed: 0             author       domain  num_comments  score  \\\n",
       "0           0       drak0bsidian      cnn.com             0      1   \n",
       "1           1          somefaces   nypost.com             1      1   \n",
       "2           2             Sombez  nytimes.com             1      1   \n",
       "3           3     Bayou-Maharaja     ktoo.org             0      1   \n",
       "4           4  phantommaster1999      buzz.ie             1      1   \n",
       "\n",
       "    timestamp                                              title  fake  \n",
       "0  1554663925  Suspected rhino poacher is killed by an elepha...     0  \n",
       "1  1554663648  Taliban commander turns himself in to collect ...     0  \n",
       "2  1554663558  Rhino Poacher Killed by Elephant and Eaten by ...     0  \n",
       "3  1554662778  Young shoves female reporter on way to Violenc...     0  \n",
       "4  1554661988  Poacher hunting rhinos trampled to death by el...     0  "
      ]
     },
     "execution_count": 10,
     "metadata": {},
     "output_type": "execute_result"
    }
   ],
   "source": [
    "genuine_dataset.head()"
   ]
  },
  {
   "cell_type": "code",
   "execution_count": 11,
   "metadata": {},
   "outputs": [],
   "source": [
    "genuine_dataset.to_csv('genuine_data.csv')"
   ]
  },
  {
   "cell_type": "code",
   "execution_count": 12,
   "metadata": {},
   "outputs": [],
   "source": [
    "dataset = fake_dataset.append(genuine_dataset, ignore_index=True)"
   ]
  },
  {
   "cell_type": "code",
   "execution_count": 13,
   "metadata": {},
   "outputs": [
    {
     "data": {
      "text/html": [
       "<div>\n",
       "<style scoped>\n",
       "    .dataframe tbody tr th:only-of-type {\n",
       "        vertical-align: middle;\n",
       "    }\n",
       "\n",
       "    .dataframe tbody tr th {\n",
       "        vertical-align: top;\n",
       "    }\n",
       "\n",
       "    .dataframe thead th {\n",
       "        text-align: right;\n",
       "    }\n",
       "</style>\n",
       "<table border=\"1\" class=\"dataframe\">\n",
       "  <thead>\n",
       "    <tr style=\"text-align: right;\">\n",
       "      <th></th>\n",
       "      <th>Unnamed: 0</th>\n",
       "      <th>author</th>\n",
       "      <th>domain</th>\n",
       "      <th>num_comments</th>\n",
       "      <th>score</th>\n",
       "      <th>timestamp</th>\n",
       "      <th>title</th>\n",
       "      <th>fake</th>\n",
       "    </tr>\n",
       "  </thead>\n",
       "  <tbody>\n",
       "    <tr>\n",
       "      <th>0</th>\n",
       "      <td>0</td>\n",
       "      <td>Kotaay</td>\n",
       "      <td>google.ca</td>\n",
       "      <td>1</td>\n",
       "      <td>1</td>\n",
       "      <td>1554658622</td>\n",
       "      <td>Jack Nicholson Banned From Sitting Courtside A...</td>\n",
       "      <td>1</td>\n",
       "    </tr>\n",
       "    <tr>\n",
       "      <th>1</th>\n",
       "      <td>1</td>\n",
       "      <td>DisastrousCandy3</td>\n",
       "      <td>theonion.com</td>\n",
       "      <td>3</td>\n",
       "      <td>1</td>\n",
       "      <td>1554600149</td>\n",
       "      <td>NicoDerm Introduces New Nicotine Eye Patch</td>\n",
       "      <td>1</td>\n",
       "    </tr>\n",
       "    <tr>\n",
       "      <th>2</th>\n",
       "      <td>2</td>\n",
       "      <td>SlovenianCat</td>\n",
       "      <td>youtu.be</td>\n",
       "      <td>0</td>\n",
       "      <td>1</td>\n",
       "      <td>1554585700</td>\n",
       "      <td>Last Bastion Of U.S. Economy Succumbs To Pancr...</td>\n",
       "      <td>1</td>\n",
       "    </tr>\n",
       "    <tr>\n",
       "      <th>3</th>\n",
       "      <td>3</td>\n",
       "      <td>MyNameIsGriffon</td>\n",
       "      <td>sports.theonion.com</td>\n",
       "      <td>0</td>\n",
       "      <td>386</td>\n",
       "      <td>1554559311</td>\n",
       "      <td>Tom Izzo Calls 2019 Spartans Best Team He’s Ev...</td>\n",
       "      <td>1</td>\n",
       "    </tr>\n",
       "    <tr>\n",
       "      <th>4</th>\n",
       "      <td>4</td>\n",
       "      <td>MyNameIsGriffon</td>\n",
       "      <td>theonion.com</td>\n",
       "      <td>0</td>\n",
       "      <td>3</td>\n",
       "      <td>1554501708</td>\n",
       "      <td>House Democrats Formally Request Trump’s Tax R...</td>\n",
       "      <td>1</td>\n",
       "    </tr>\n",
       "  </tbody>\n",
       "</table>\n",
       "</div>"
      ],
      "text/plain": [
       "   Unnamed: 0            author               domain  num_comments  score  \\\n",
       "0           0            Kotaay            google.ca             1      1   \n",
       "1           1  DisastrousCandy3         theonion.com             3      1   \n",
       "2           2      SlovenianCat             youtu.be             0      1   \n",
       "3           3   MyNameIsGriffon  sports.theonion.com             0    386   \n",
       "4           4   MyNameIsGriffon         theonion.com             0      3   \n",
       "\n",
       "    timestamp                                              title  fake  \n",
       "0  1554658622  Jack Nicholson Banned From Sitting Courtside A...     1  \n",
       "1  1554600149         NicoDerm Introduces New Nicotine Eye Patch     1  \n",
       "2  1554585700  Last Bastion Of U.S. Economy Succumbs To Pancr...     1  \n",
       "3  1554559311  Tom Izzo Calls 2019 Spartans Best Team He’s Ev...     1  \n",
       "4  1554501708  House Democrats Formally Request Trump’s Tax R...     1  "
      ]
     },
     "execution_count": 13,
     "metadata": {},
     "output_type": "execute_result"
    }
   ],
   "source": [
    "dataset.head()"
   ]
  },
  {
   "cell_type": "code",
   "execution_count": 14,
   "metadata": {},
   "outputs": [],
   "source": [
    "dataset2 = dataset"
   ]
  },
  {
   "cell_type": "code",
   "execution_count": 15,
   "metadata": {},
   "outputs": [],
   "source": [
    "dataset2 = dataset2.drop(dataset2.columns[0], axis=1)"
   ]
  },
  {
   "cell_type": "code",
   "execution_count": 16,
   "metadata": {},
   "outputs": [],
   "source": [
    "dataset2 = dataset2.drop('num_comments', axis=1)"
   ]
  },
  {
   "cell_type": "code",
   "execution_count": 17,
   "metadata": {},
   "outputs": [
    {
     "data": {
      "text/html": [
       "<div>\n",
       "<style scoped>\n",
       "    .dataframe tbody tr th:only-of-type {\n",
       "        vertical-align: middle;\n",
       "    }\n",
       "\n",
       "    .dataframe tbody tr th {\n",
       "        vertical-align: top;\n",
       "    }\n",
       "\n",
       "    .dataframe thead th {\n",
       "        text-align: right;\n",
       "    }\n",
       "</style>\n",
       "<table border=\"1\" class=\"dataframe\">\n",
       "  <thead>\n",
       "    <tr style=\"text-align: right;\">\n",
       "      <th></th>\n",
       "      <th>author</th>\n",
       "      <th>domain</th>\n",
       "      <th>score</th>\n",
       "      <th>timestamp</th>\n",
       "      <th>title</th>\n",
       "      <th>fake</th>\n",
       "    </tr>\n",
       "  </thead>\n",
       "  <tbody>\n",
       "    <tr>\n",
       "      <th>0</th>\n",
       "      <td>Kotaay</td>\n",
       "      <td>google.ca</td>\n",
       "      <td>1</td>\n",
       "      <td>1554658622</td>\n",
       "      <td>Jack Nicholson Banned From Sitting Courtside A...</td>\n",
       "      <td>1</td>\n",
       "    </tr>\n",
       "    <tr>\n",
       "      <th>1</th>\n",
       "      <td>DisastrousCandy3</td>\n",
       "      <td>theonion.com</td>\n",
       "      <td>1</td>\n",
       "      <td>1554600149</td>\n",
       "      <td>NicoDerm Introduces New Nicotine Eye Patch</td>\n",
       "      <td>1</td>\n",
       "    </tr>\n",
       "    <tr>\n",
       "      <th>2</th>\n",
       "      <td>SlovenianCat</td>\n",
       "      <td>youtu.be</td>\n",
       "      <td>1</td>\n",
       "      <td>1554585700</td>\n",
       "      <td>Last Bastion Of U.S. Economy Succumbs To Pancr...</td>\n",
       "      <td>1</td>\n",
       "    </tr>\n",
       "    <tr>\n",
       "      <th>3</th>\n",
       "      <td>MyNameIsGriffon</td>\n",
       "      <td>sports.theonion.com</td>\n",
       "      <td>386</td>\n",
       "      <td>1554559311</td>\n",
       "      <td>Tom Izzo Calls 2019 Spartans Best Team He’s Ev...</td>\n",
       "      <td>1</td>\n",
       "    </tr>\n",
       "    <tr>\n",
       "      <th>4</th>\n",
       "      <td>MyNameIsGriffon</td>\n",
       "      <td>theonion.com</td>\n",
       "      <td>3</td>\n",
       "      <td>1554501708</td>\n",
       "      <td>House Democrats Formally Request Trump’s Tax R...</td>\n",
       "      <td>1</td>\n",
       "    </tr>\n",
       "  </tbody>\n",
       "</table>\n",
       "</div>"
      ],
      "text/plain": [
       "             author               domain  score   timestamp  \\\n",
       "0            Kotaay            google.ca      1  1554658622   \n",
       "1  DisastrousCandy3         theonion.com      1  1554600149   \n",
       "2      SlovenianCat             youtu.be      1  1554585700   \n",
       "3   MyNameIsGriffon  sports.theonion.com    386  1554559311   \n",
       "4   MyNameIsGriffon         theonion.com      3  1554501708   \n",
       "\n",
       "                                               title  fake  \n",
       "0  Jack Nicholson Banned From Sitting Courtside A...     1  \n",
       "1         NicoDerm Introduces New Nicotine Eye Patch     1  \n",
       "2  Last Bastion Of U.S. Economy Succumbs To Pancr...     1  \n",
       "3  Tom Izzo Calls 2019 Spartans Best Team He’s Ev...     1  \n",
       "4  House Democrats Formally Request Trump’s Tax R...     1  "
      ]
     },
     "execution_count": 17,
     "metadata": {},
     "output_type": "execute_result"
    }
   ],
   "source": [
    "dataset2.head()"
   ]
  },
  {
   "cell_type": "code",
   "execution_count": 18,
   "metadata": {},
   "outputs": [
    {
     "data": {
      "text/html": [
       "<div>\n",
       "<style scoped>\n",
       "    .dataframe tbody tr th:only-of-type {\n",
       "        vertical-align: middle;\n",
       "    }\n",
       "\n",
       "    .dataframe tbody tr th {\n",
       "        vertical-align: top;\n",
       "    }\n",
       "\n",
       "    .dataframe thead th {\n",
       "        text-align: right;\n",
       "    }\n",
       "</style>\n",
       "<table border=\"1\" class=\"dataframe\">\n",
       "  <thead>\n",
       "    <tr style=\"text-align: right;\">\n",
       "      <th></th>\n",
       "      <th>author</th>\n",
       "      <th>domain</th>\n",
       "      <th>score</th>\n",
       "      <th>timestamp</th>\n",
       "      <th>title</th>\n",
       "      <th>fake</th>\n",
       "    </tr>\n",
       "  </thead>\n",
       "  <tbody>\n",
       "    <tr>\n",
       "      <th>29863</th>\n",
       "      <td>Icy9kills</td>\n",
       "      <td>yahoo.com</td>\n",
       "      <td>1</td>\n",
       "      <td>1548378526</td>\n",
       "      <td>Family kicked off of plane because of their bo...</td>\n",
       "      <td>0</td>\n",
       "    </tr>\n",
       "    <tr>\n",
       "      <th>29864</th>\n",
       "      <td>EternalTryhard</td>\n",
       "      <td>dw.com</td>\n",
       "      <td>1</td>\n",
       "      <td>1548378483</td>\n",
       "      <td>Russia's Putin and Japan's Abe try to end Worl...</td>\n",
       "      <td>0</td>\n",
       "    </tr>\n",
       "    <tr>\n",
       "      <th>29865</th>\n",
       "      <td>MassBurst730</td>\n",
       "      <td>cnn.com</td>\n",
       "      <td>1</td>\n",
       "      <td>1548378466</td>\n",
       "      <td>Daily fried chicken serving linked to 13% high...</td>\n",
       "      <td>0</td>\n",
       "    </tr>\n",
       "    <tr>\n",
       "      <th>29866</th>\n",
       "      <td>TriumphantSon</td>\n",
       "      <td>eurogamer.net</td>\n",
       "      <td>1</td>\n",
       "      <td>1548378167</td>\n",
       "      <td>Farming simulator starts up esports with 250k ...</td>\n",
       "      <td>0</td>\n",
       "    </tr>\n",
       "    <tr>\n",
       "      <th>29867</th>\n",
       "      <td>treesbark</td>\n",
       "      <td>independent.co.uk</td>\n",
       "      <td>1</td>\n",
       "      <td>1548378009</td>\n",
       "      <td>MARK ZUCKERBERG 'KILLED GOAT WITH LASER GUN AN...</td>\n",
       "      <td>0</td>\n",
       "    </tr>\n",
       "  </tbody>\n",
       "</table>\n",
       "</div>"
      ],
      "text/plain": [
       "               author             domain  score   timestamp  \\\n",
       "29863       Icy9kills          yahoo.com      1  1548378526   \n",
       "29864  EternalTryhard             dw.com      1  1548378483   \n",
       "29865    MassBurst730            cnn.com      1  1548378466   \n",
       "29866   TriumphantSon      eurogamer.net      1  1548378167   \n",
       "29867       treesbark  independent.co.uk      1  1548378009   \n",
       "\n",
       "                                                   title  fake  \n",
       "29863  Family kicked off of plane because of their bo...     0  \n",
       "29864  Russia's Putin and Japan's Abe try to end Worl...     0  \n",
       "29865  Daily fried chicken serving linked to 13% high...     0  \n",
       "29866  Farming simulator starts up esports with 250k ...     0  \n",
       "29867  MARK ZUCKERBERG 'KILLED GOAT WITH LASER GUN AN...     0  "
      ]
     },
     "execution_count": 18,
     "metadata": {},
     "output_type": "execute_result"
    }
   ],
   "source": [
    "dataset2.tail()"
   ]
  },
  {
   "cell_type": "code",
   "execution_count": 19,
   "metadata": {},
   "outputs": [],
   "source": [
    "dataset2.to_csv('merged_data.csv')"
   ]
  },
  {
   "cell_type": "markdown",
   "metadata": {},
   "source": [
    "If you are already having the merged_data.csv which I made, you only need to start executing from here. Everything else can be commented out."
   ]
  },
  {
   "cell_type": "code",
   "execution_count": 20,
   "metadata": {},
   "outputs": [],
   "source": [
    "dataset = pd.read_csv('merged_data.csv')"
   ]
  },
  {
   "cell_type": "code",
   "execution_count": 21,
   "metadata": {},
   "outputs": [
    {
     "data": {
      "text/html": [
       "<div>\n",
       "<style scoped>\n",
       "    .dataframe tbody tr th:only-of-type {\n",
       "        vertical-align: middle;\n",
       "    }\n",
       "\n",
       "    .dataframe tbody tr th {\n",
       "        vertical-align: top;\n",
       "    }\n",
       "\n",
       "    .dataframe thead th {\n",
       "        text-align: right;\n",
       "    }\n",
       "</style>\n",
       "<table border=\"1\" class=\"dataframe\">\n",
       "  <thead>\n",
       "    <tr style=\"text-align: right;\">\n",
       "      <th></th>\n",
       "      <th>Unnamed: 0</th>\n",
       "      <th>author</th>\n",
       "      <th>domain</th>\n",
       "      <th>score</th>\n",
       "      <th>timestamp</th>\n",
       "      <th>title</th>\n",
       "      <th>fake</th>\n",
       "    </tr>\n",
       "  </thead>\n",
       "  <tbody>\n",
       "    <tr>\n",
       "      <th>0</th>\n",
       "      <td>0</td>\n",
       "      <td>Kotaay</td>\n",
       "      <td>google.ca</td>\n",
       "      <td>1</td>\n",
       "      <td>1554658622</td>\n",
       "      <td>Jack Nicholson Banned From Sitting Courtside A...</td>\n",
       "      <td>1</td>\n",
       "    </tr>\n",
       "    <tr>\n",
       "      <th>1</th>\n",
       "      <td>1</td>\n",
       "      <td>DisastrousCandy3</td>\n",
       "      <td>theonion.com</td>\n",
       "      <td>1</td>\n",
       "      <td>1554600149</td>\n",
       "      <td>NicoDerm Introduces New Nicotine Eye Patch</td>\n",
       "      <td>1</td>\n",
       "    </tr>\n",
       "    <tr>\n",
       "      <th>2</th>\n",
       "      <td>2</td>\n",
       "      <td>SlovenianCat</td>\n",
       "      <td>youtu.be</td>\n",
       "      <td>1</td>\n",
       "      <td>1554585700</td>\n",
       "      <td>Last Bastion Of U.S. Economy Succumbs To Pancr...</td>\n",
       "      <td>1</td>\n",
       "    </tr>\n",
       "    <tr>\n",
       "      <th>3</th>\n",
       "      <td>3</td>\n",
       "      <td>MyNameIsGriffon</td>\n",
       "      <td>sports.theonion.com</td>\n",
       "      <td>386</td>\n",
       "      <td>1554559311</td>\n",
       "      <td>Tom Izzo Calls 2019 Spartans Best Team He’s Ev...</td>\n",
       "      <td>1</td>\n",
       "    </tr>\n",
       "    <tr>\n",
       "      <th>4</th>\n",
       "      <td>4</td>\n",
       "      <td>MyNameIsGriffon</td>\n",
       "      <td>theonion.com</td>\n",
       "      <td>3</td>\n",
       "      <td>1554501708</td>\n",
       "      <td>House Democrats Formally Request Trump’s Tax R...</td>\n",
       "      <td>1</td>\n",
       "    </tr>\n",
       "  </tbody>\n",
       "</table>\n",
       "</div>"
      ],
      "text/plain": [
       "   Unnamed: 0            author               domain  score   timestamp  \\\n",
       "0           0            Kotaay            google.ca      1  1554658622   \n",
       "1           1  DisastrousCandy3         theonion.com      1  1554600149   \n",
       "2           2      SlovenianCat             youtu.be      1  1554585700   \n",
       "3           3   MyNameIsGriffon  sports.theonion.com    386  1554559311   \n",
       "4           4   MyNameIsGriffon         theonion.com      3  1554501708   \n",
       "\n",
       "                                               title  fake  \n",
       "0  Jack Nicholson Banned From Sitting Courtside A...     1  \n",
       "1         NicoDerm Introduces New Nicotine Eye Patch     1  \n",
       "2  Last Bastion Of U.S. Economy Succumbs To Pancr...     1  \n",
       "3  Tom Izzo Calls 2019 Spartans Best Team He’s Ev...     1  \n",
       "4  House Democrats Formally Request Trump’s Tax R...     1  "
      ]
     },
     "execution_count": 21,
     "metadata": {},
     "output_type": "execute_result"
    }
   ],
   "source": [
    "dataset.head()"
   ]
  },
  {
   "cell_type": "markdown",
   "metadata": {},
   "source": [
    "Cleaning the data"
   ]
  },
  {
   "cell_type": "markdown",
   "metadata": {},
   "source": [
    "In order to remove bias, we need to clean the data - remove duplicate articles, remove punctuation marks, remove numbers, remove double spaces and make all text lowercase"
   ]
  },
  {
   "cell_type": "code",
   "execution_count": 22,
   "metadata": {},
   "outputs": [],
   "source": [
    "def clean_data(dataframe):\n",
    "    # Drop duplicate rows\n",
    "    dataframe.drop_duplicates(subset='title', inplace=True)\n",
    "    # Remove punctation\n",
    "    dataframe['title'] = dataframe['title'].str.replace('[^\\w\\s]',' ')\n",
    "    # Remove numbers \n",
    "    dataframe['title'] = dataframe['title'].str.replace('[^A-Za-z]',' ')\n",
    "    # Make sure any double-spaces are single \n",
    "    dataframe['title'] = dataframe['title'].str.replace('  ',' ')\n",
    "    dataframe['title'] = dataframe['title'].str.replace('  ',' ')\n",
    "    # Transform all text to lowercase\n",
    "    dataframe['title'] = dataframe['title'].str.lower()\n",
    "    print(\"New shape:\", dataframe.shape)\n",
    "    return dataframe.head()"
   ]
  },
  {
   "cell_type": "code",
   "execution_count": 23,
   "metadata": {},
   "outputs": [
    {
     "name": "stdout",
     "output_type": "stream",
     "text": [
      "New shape: (26262, 7)\n"
     ]
    },
    {
     "data": {
      "text/html": [
       "<div>\n",
       "<style scoped>\n",
       "    .dataframe tbody tr th:only-of-type {\n",
       "        vertical-align: middle;\n",
       "    }\n",
       "\n",
       "    .dataframe tbody tr th {\n",
       "        vertical-align: top;\n",
       "    }\n",
       "\n",
       "    .dataframe thead th {\n",
       "        text-align: right;\n",
       "    }\n",
       "</style>\n",
       "<table border=\"1\" class=\"dataframe\">\n",
       "  <thead>\n",
       "    <tr style=\"text-align: right;\">\n",
       "      <th></th>\n",
       "      <th>Unnamed: 0</th>\n",
       "      <th>author</th>\n",
       "      <th>domain</th>\n",
       "      <th>score</th>\n",
       "      <th>timestamp</th>\n",
       "      <th>title</th>\n",
       "      <th>fake</th>\n",
       "    </tr>\n",
       "  </thead>\n",
       "  <tbody>\n",
       "    <tr>\n",
       "      <th>0</th>\n",
       "      <td>0</td>\n",
       "      <td>Kotaay</td>\n",
       "      <td>google.ca</td>\n",
       "      <td>1</td>\n",
       "      <td>1554658622</td>\n",
       "      <td>jack nicholson banned from sitting courtside a...</td>\n",
       "      <td>1</td>\n",
       "    </tr>\n",
       "    <tr>\n",
       "      <th>1</th>\n",
       "      <td>1</td>\n",
       "      <td>DisastrousCandy3</td>\n",
       "      <td>theonion.com</td>\n",
       "      <td>1</td>\n",
       "      <td>1554600149</td>\n",
       "      <td>nicoderm introduces new nicotine eye patch</td>\n",
       "      <td>1</td>\n",
       "    </tr>\n",
       "    <tr>\n",
       "      <th>2</th>\n",
       "      <td>2</td>\n",
       "      <td>SlovenianCat</td>\n",
       "      <td>youtu.be</td>\n",
       "      <td>1</td>\n",
       "      <td>1554585700</td>\n",
       "      <td>last bastion of u s economy succumbs to pancre...</td>\n",
       "      <td>1</td>\n",
       "    </tr>\n",
       "    <tr>\n",
       "      <th>3</th>\n",
       "      <td>3</td>\n",
       "      <td>MyNameIsGriffon</td>\n",
       "      <td>sports.theonion.com</td>\n",
       "      <td>386</td>\n",
       "      <td>1554559311</td>\n",
       "      <td>tom izzo calls  spartans best team he s ever t...</td>\n",
       "      <td>1</td>\n",
       "    </tr>\n",
       "    <tr>\n",
       "      <th>4</th>\n",
       "      <td>4</td>\n",
       "      <td>MyNameIsGriffon</td>\n",
       "      <td>theonion.com</td>\n",
       "      <td>3</td>\n",
       "      <td>1554501708</td>\n",
       "      <td>house democrats formally request trump s tax r...</td>\n",
       "      <td>1</td>\n",
       "    </tr>\n",
       "  </tbody>\n",
       "</table>\n",
       "</div>"
      ],
      "text/plain": [
       "   Unnamed: 0            author               domain  score   timestamp  \\\n",
       "0           0            Kotaay            google.ca      1  1554658622   \n",
       "1           1  DisastrousCandy3         theonion.com      1  1554600149   \n",
       "2           2      SlovenianCat             youtu.be      1  1554585700   \n",
       "3           3   MyNameIsGriffon  sports.theonion.com    386  1554559311   \n",
       "4           4   MyNameIsGriffon         theonion.com      3  1554501708   \n",
       "\n",
       "                                               title  fake  \n",
       "0  jack nicholson banned from sitting courtside a...     1  \n",
       "1         nicoderm introduces new nicotine eye patch     1  \n",
       "2  last bastion of u s economy succumbs to pancre...     1  \n",
       "3  tom izzo calls  spartans best team he s ever t...     1  \n",
       "4  house democrats formally request trump s tax r...     1  "
      ]
     },
     "execution_count": 23,
     "metadata": {},
     "output_type": "execute_result"
    }
   ],
   "source": [
    "clean_data(dataset)"
   ]
  },
  {
   "cell_type": "markdown",
   "metadata": {},
   "source": [
    "Check for null values"
   ]
  },
  {
   "cell_type": "code",
   "execution_count": 24,
   "metadata": {},
   "outputs": [
    {
     "data": {
      "text/html": [
       "<div>\n",
       "<style scoped>\n",
       "    .dataframe tbody tr th:only-of-type {\n",
       "        vertical-align: middle;\n",
       "    }\n",
       "\n",
       "    .dataframe tbody tr th {\n",
       "        vertical-align: top;\n",
       "    }\n",
       "\n",
       "    .dataframe thead th {\n",
       "        text-align: right;\n",
       "    }\n",
       "</style>\n",
       "<table border=\"1\" class=\"dataframe\">\n",
       "  <thead>\n",
       "    <tr style=\"text-align: right;\">\n",
       "      <th></th>\n",
       "      <th>dataSet</th>\n",
       "    </tr>\n",
       "  </thead>\n",
       "  <tbody>\n",
       "    <tr>\n",
       "      <th>Unnamed: 0</th>\n",
       "      <td>0</td>\n",
       "    </tr>\n",
       "    <tr>\n",
       "      <th>author</th>\n",
       "      <td>0</td>\n",
       "    </tr>\n",
       "    <tr>\n",
       "      <th>domain</th>\n",
       "      <td>0</td>\n",
       "    </tr>\n",
       "    <tr>\n",
       "      <th>num_comments</th>\n",
       "      <td>0</td>\n",
       "    </tr>\n",
       "    <tr>\n",
       "      <th>score</th>\n",
       "      <td>0</td>\n",
       "    </tr>\n",
       "    <tr>\n",
       "      <th>subreddit</th>\n",
       "      <td>0</td>\n",
       "    </tr>\n",
       "    <tr>\n",
       "      <th>timestamp</th>\n",
       "      <td>0</td>\n",
       "    </tr>\n",
       "    <tr>\n",
       "      <th>title</th>\n",
       "      <td>0</td>\n",
       "    </tr>\n",
       "  </tbody>\n",
       "</table>\n",
       "</div>"
      ],
      "text/plain": [
       "              dataSet\n",
       "Unnamed: 0          0\n",
       "author              0\n",
       "domain              0\n",
       "num_comments        0\n",
       "score               0\n",
       "subreddit           0\n",
       "timestamp           0\n",
       "title               0"
      ]
     },
     "execution_count": 24,
     "metadata": {},
     "output_type": "execute_result"
    }
   ],
   "source": [
    "pd.DataFrame([df_onion.isnull().sum()], index=[\"dataSet\"]).T"
   ]
  },
  {
   "cell_type": "markdown",
   "metadata": {},
   "source": [
    "There are no null values"
   ]
  },
  {
   "cell_type": "markdown",
   "metadata": {},
   "source": [
    "# Exploratory Data Analysis"
   ]
  },
  {
   "cell_type": "code",
   "execution_count": 25,
   "metadata": {},
   "outputs": [],
   "source": [
    "import matplotlib.pyplot as plt\n",
    "import seaborn as sns"
   ]
  },
  {
   "cell_type": "markdown",
   "metadata": {},
   "source": [
    "Bar Plot Function"
   ]
  },
  {
   "cell_type": "code",
   "execution_count": 26,
   "metadata": {},
   "outputs": [],
   "source": [
    "def bar_plot(x, y, title, color):    \n",
    "    # Set up barplot \n",
    "    plt.figure(figsize=(9,5))\n",
    "    g=sns.barplot(x, y, color = color)    \n",
    "    ax=g\n",
    "    # Label the graph\n",
    "    plt.title(title, fontsize = 15)\n",
    "    plt.xticks(fontsize = 10)\n",
    "    # Enable bar values\n",
    "    totals = []\n",
    "    # find the values and append to list\n",
    "    for p in ax.patches:\n",
    "        totals.append(p.get_width())\n",
    "    # set individual bar lables using above list\n",
    "    total = sum(totals)\n",
    "    # set individual bar lables using above list\n",
    "    for p in ax.patches:\n",
    "        # get_width pulls left or right; get_y pushes up or down\n",
    "        ax.text(p.get_width()+.3, p.get_y()+.38, \\\n",
    "                int(p.get_width()), fontsize=10)"
   ]
  },
  {
   "cell_type": "markdown",
   "metadata": {},
   "source": [
    "Most active authors fake news and articles"
   ]
  },
  {
   "cell_type": "code",
   "execution_count": 27,
   "metadata": {
    "scrolled": false
   },
   "outputs": [
    {
     "data": {
      "image/png": "[encoded data removed]",
      "text/plain": [
       "<Figure size 648x360 with 1 Axes>"
      ]
     },
     "metadata": {
      "needs_background": "light"
     },
     "output_type": "display_data"
    }
   ],
   "source": [
    "df_fake_authors = fake_dataset['author'].value_counts() \n",
    "df_fake_authors = df_fake_authors[df_fake_authors > 100].sort_values(ascending=False)\n",
    "# Set y values: Authors \n",
    "df_fake_authors_index = list(df_fake_authors.index)\n",
    "# Call function\n",
    "bar_plot(df_fake_authors.values, df_fake_authors_index, 'Most Active Authors: Fake', 'r')"
   ]
  },
  {
   "cell_type": "markdown",
   "metadata": {},
   "source": [
    "Most active authors of non fake news and articles"
   ]
  },
  {
   "cell_type": "code",
   "execution_count": 28,
   "metadata": {},
   "outputs": [
    {
     "data": {
      "image/png": "[encoded data removed]",
      "text/plain": [
       "<Figure size 648x360 with 1 Axes>"
      ]
     },
     "metadata": {
      "needs_background": "light"
     },
     "output_type": "display_data"
    }
   ],
   "source": [
    "# Set x values: # of posts\n",
    "df_not_fake_authors = genuine_dataset['author'].value_counts() \n",
    "df_not_fake_authors = df_not_fake_authors[df_not_fake_authors > 100].sort_values(ascending=False)\n",
    "\n",
    "# Set y values: Authors\n",
    "df_not_fake_authors_index = list(df_not_fake_authors.index)\n",
    "\n",
    "# Call function\n",
    "bar_plot(df_not_fake_authors.values, df_not_fake_authors_index, 'Most Active Authors: Genuine','b')\n"
   ]
  },
  {
   "cell_type": "markdown",
   "metadata": {},
   "source": [
    "Most referenced domains of Fake news and articles"
   ]
  },
  {
   "cell_type": "code",
   "execution_count": 29,
   "metadata": {},
   "outputs": [
    {
     "data": {
      "image/png": "[encoded data removed]",
      "text/plain": [
       "<Figure size 648x360 with 1 Axes>"
      ]
     },
     "metadata": {
      "needs_background": "light"
     },
     "output_type": "display_data"
    }
   ],
   "source": [
    "# Set x values: # of posts\n",
    "df_fake_domain = fake_dataset['domain'].value_counts()\n",
    "df_fake_domain = df_fake_domain.sort_values(ascending=False).head(5)\n",
    "# Set y values: Domains\n",
    "df_fake_domain_index = list(df_fake_domain.index)\n",
    "# Call function\n",
    "bar_plot(df_fake_domain.values, df_fake_domain_index, 'Most Referenced Domains: Fake', 'r')"
   ]
  },
  {
   "cell_type": "markdown",
   "metadata": {},
   "source": [
    "Most referenced domains of genuine news and articles"
   ]
  },
  {
   "cell_type": "code",
   "execution_count": 30,
   "metadata": {},
   "outputs": [
    {
     "data": {
      "image/png": "[encoded data removed]",
      "text/plain": [
       "<Figure size 648x360 with 1 Axes>"
      ]
     },
     "metadata": {
      "needs_background": "light"
     },
     "output_type": "display_data"
    }
   ],
   "source": [
    "# Set x values: # of posts greater than 100\n",
    "df_not_fake_domain = genuine_dataset['domain'].value_counts() \n",
    "df_not_fake_domain = df_not_fake_domain.sort_values(ascending=False).head(5)\n",
    "# Set y values: Names of authors \n",
    "df_not_fake_domain_index = list(df_not_fake_domain.index)\n",
    "# Call function\n",
    "bar_plot(df_not_fake_domain.values, df_not_fake_domain_index, 'Most Referenced Domains: Genuine', 'b')"
   ]
  },
  {
   "cell_type": "markdown",
   "metadata": {},
   "source": [
    "# Natural Language Processing"
   ]
  },
  {
   "cell_type": "code",
   "execution_count": 31,
   "metadata": {},
   "outputs": [
    {
     "name": "stdout",
     "output_type": "stream",
     "text": [
      "<class 'pandas.core.frame.DataFrame'>\n",
      "Int64Index: 26262 entries, 0 to 29867\n",
      "Data columns (total 7 columns):\n",
      "Unnamed: 0    26262 non-null int64\n",
      "author        26262 non-null object\n",
      "domain        26262 non-null object\n",
      "score         26262 non-null int64\n",
      "timestamp     26262 non-null int64\n",
      "title         26262 non-null object\n",
      "fake          26262 non-null int64\n",
      "dtypes: int64(4), object(3)\n",
      "memory usage: 1.6+ MB\n"
     ]
    }
   ],
   "source": [
    "dataset.info()"
   ]
  },
  {
   "cell_type": "code",
   "execution_count": 32,
   "metadata": {},
   "outputs": [],
   "source": [
    "nlp_dataset = dataset.drop(['author', 'domain', 'score', 'timestamp'], axis=1)"
   ]
  },
  {
   "cell_type": "code",
   "execution_count": 33,
   "metadata": {},
   "outputs": [],
   "source": [
    "nlp_dataset = nlp_dataset.drop(nlp_dataset.columns[0], axis=1)"
   ]
  },
  {
   "cell_type": "code",
   "execution_count": 34,
   "metadata": {},
   "outputs": [
    {
     "name": "stdout",
     "output_type": "stream",
     "text": [
      "<class 'pandas.core.frame.DataFrame'>\n",
      "RangeIndex: 26262 entries, 0 to 26261\n",
      "Data columns (total 2 columns):\n",
      "title    26262 non-null object\n",
      "fake     26262 non-null int64\n",
      "dtypes: int64(1), object(1)\n",
      "memory usage: 410.4+ KB\n"
     ]
    }
   ],
   "source": [
    "nlp_dataset = nlp_dataset.reset_index(drop=True)\n",
    "nlp_dataset.info()"
   ]
  },
  {
   "cell_type": "markdown",
   "metadata": {},
   "source": [
    "Applying count vectorizer"
   ]
  },
  {
   "cell_type": "code",
   "execution_count": 35,
   "metadata": {},
   "outputs": [],
   "source": [
    "from sklearn.feature_extraction import stop_words\n",
    "from sklearn.feature_extraction.text import CountVectorizer, TfidfVectorizer"
   ]
  },
  {
   "cell_type": "markdown",
   "metadata": {},
   "source": [
    "I have no other choice but to drop a lot of data as my computer is not supporting this size which is meant to be run on supercomputers. See Line 6 of the following code segment."
   ]
  },
  {
   "cell_type": "markdown",
   "metadata": {},
   "source": [
    "Count Vectorize when fake is 1"
   ]
  },
  {
   "cell_type": "code",
   "execution_count": 36,
   "metadata": {
    "scrolled": true
   },
   "outputs": [
    {
     "name": "stdout",
     "output_type": "stream",
     "text": [
      "(5000, 11276)\n"
     ]
    }
   ],
   "source": [
    "mask_on = dataset['fake'] == 1\n",
    "df_fake_titles = dataset[mask_on]['title']\n",
    "# Im only taking first 2000 entries\n",
    "# Else it gives memory error\n",
    "# As this project is meant to be run on a damn cluster\n",
    "df_fake_titles = df_fake_titles.head(5000) # dropping the rest of the bazillion points of data\n",
    "# Instantiate a CountVectorizer\n",
    "cv1 = CountVectorizer(stop_words = 'english')\n",
    "# Fit and transform the vectorizer on our corpus\n",
    "fake_cvec = cv1.fit_transform(df_fake_titles)\n",
    "# Convert fake_cvec into a DataFrame\n",
    "fake_cvec_df = pd.DataFrame(fake_cvec.toarray(),\n",
    "                            columns=cv1.get_feature_names())\n",
    "\n",
    "# Inspect head of Fake Titles cvec\n",
    "print(fake_cvec_df.shape)"
   ]
  },
  {
   "cell_type": "markdown",
   "metadata": {},
   "source": [
    "Count Vectorize when fake is 0"
   ]
  },
  {
   "cell_type": "code",
   "execution_count": 37,
   "metadata": {},
   "outputs": [
    {
     "name": "stdout",
     "output_type": "stream",
     "text": [
      "(5000, 8955)\n"
     ]
    }
   ],
   "source": [
    "# Set variables to show Genuine Titles\n",
    "mask_no = dataset['fake'] == 0\n",
    "df_not_fake_titles = dataset[mask_no]['title']\n",
    "# Again, a conventional laptop doesnt support np.toarray() thousands of text data at once\n",
    "# Hence, dropping a few thousand more of the data\n",
    "df_not_fake_titles = df_not_fake_titles.head(5000) # Again, I dont have a supercomputer and I'm lazy to do it even if I had one\n",
    "# Instantiate a CountVectorizer\n",
    "cv2 = CountVectorizer(stop_words = 'english')\n",
    "\n",
    "# Fit and transform the vectorizer on our corpus\n",
    "not_fake_cvec = cv2.fit_transform(df_not_fake_titles)\n",
    "\n",
    "# Convert fake_cvec into a DataFrame\n",
    "not_fake_cvec_df = pd.DataFrame(not_fake_cvec.toarray(),\n",
    "                                columns=cv2.get_feature_names())\n",
    "\n",
    "# Inspect head of Not fake Titles cvec\n",
    "print(not_fake_cvec_df.shape)"
   ]
  },
  {
   "cell_type": "markdown",
   "metadata": {},
   "source": [
    "Fake: Top 5 unigrams"
   ]
  },
  {
   "cell_type": "code",
   "execution_count": 38,
   "metadata": {},
   "outputs": [
    {
     "data": {
      "image/png": "[encoded data removed]",
      "text/plain": [
       "<Figure size 648x360 with 1 Axes>"
      ]
     },
     "metadata": {
      "needs_background": "light"
     },
     "output_type": "display_data"
    }
   ],
   "source": [
    "# Set up variables to contain top 5 most used words in Fake\n",
    "fake_wc = fake_cvec_df.sum(axis = 0)\n",
    "fake_top_5 = fake_wc.sort_values(ascending=False).head(5)\n",
    "\n",
    "# Call function\n",
    "bar_plot(fake_top_5.values, fake_top_5.index, 'Top 5 unigrams on r/Fake Data','r')"
   ]
  },
  {
   "cell_type": "markdown",
   "metadata": {},
   "source": [
    "Genuine: Top 5 unigrams"
   ]
  },
  {
   "cell_type": "code",
   "execution_count": 39,
   "metadata": {},
   "outputs": [
    {
     "data": {
      "image/png": "[encoded data removed]",
      "text/plain": [
       "<Figure size 648x360 with 1 Axes>"
      ]
     },
     "metadata": {
      "needs_background": "light"
     },
     "output_type": "display_data"
    }
   ],
   "source": [
    "# Set up variables to contain top 5 most used words in Fake\n",
    "nfake_wc = not_fake_cvec_df.sum(axis = 0)\n",
    "nfake_top_5 = nfake_wc.sort_values(ascending=False).head(5)\n",
    "\n",
    "# Call function\n",
    "bar_plot(nfake_top_5.values, nfake_top_5.index, 'Top 5 unigrams on r/not Fake','b')"
   ]
  },
  {
   "cell_type": "markdown",
   "metadata": {},
   "source": [
    "Common Unigrams"
   ]
  },
  {
   "cell_type": "code",
   "execution_count": 40,
   "metadata": {},
   "outputs": [
    {
     "data": {
      "text/plain": [
       "{'man', 'trump'}"
      ]
     },
     "execution_count": 40,
     "metadata": {},
     "output_type": "execute_result"
    }
   ],
   "source": [
    "not_fake_5_set = set(nfake_top_5.index)\n",
    "fake_5_set = set(fake_top_5.index)\n",
    "\n",
    "# Return common words\n",
    "common_unigrams = fake_5_set.intersection(not_fake_5_set)\n",
    "common_unigrams"
   ]
  },
  {
   "cell_type": "markdown",
   "metadata": {},
   "source": [
    "Now set ngram range as 2 to get most used phrase of word length 2"
   ]
  },
  {
   "cell_type": "markdown",
   "metadata": {},
   "source": [
    "Count vectorize when fake = 1`"
   ]
  },
  {
   "cell_type": "code",
   "execution_count": 41,
   "metadata": {},
   "outputs": [
    {
     "name": "stdout",
     "output_type": "stream",
     "text": [
      "(2500, 15869)\n"
     ]
    }
   ],
   "source": [
    "# Set variables to show Fake Titles\n",
    "mask = dataset['fake'] == 1\n",
    "df_fake_titles = dataset[mask]['title']\n",
    "df_fake_titles = df_fake_titles.head(2500)\n",
    "\n",
    "# Instantiate a CountVectorizer\n",
    "cv = CountVectorizer(stop_words = 'english', ngram_range=(2,2))\n",
    "\n",
    "# Fit and transform the vectorizer on our corpus\n",
    "fake_cvec = cv.fit_transform(df_fake_titles)\n",
    "\n",
    "# Convert fake_cvec into a DataFrame\n",
    "fake_cvec_df = pd.DataFrame(fake_cvec.toarray(),\n",
    "                   columns=cv.get_feature_names())\n",
    "\n",
    "# Inspect head of Fake Titles cvec\n",
    "print(fake_cvec_df.shape)"
   ]
  },
  {
   "cell_type": "markdown",
   "metadata": {},
   "source": [
    "Count Vectorize when fake = 0"
   ]
  },
  {
   "cell_type": "code",
   "execution_count": 42,
   "metadata": {},
   "outputs": [
    {
     "name": "stdout",
     "output_type": "stream",
     "text": [
      "(2500, 13097)\n"
     ]
    }
   ],
   "source": [
    "# Set variables to show Genuine Titles\n",
    "mask = dataset['fake'] == 0\n",
    "df_not_fake_titles = dataset[mask]['title']\n",
    "df_not_fake_titles = df_not_fake_titles.head(2500)\n",
    "# Instantiate a CountVectorizer\n",
    "cv = CountVectorizer(stop_words = 'english', ngram_range=(2,2))\n",
    "# Fit and transform the vectorizer on our corpus\n",
    "not_fake_cvec = cv.fit_transform(df_not_fake_titles)\n",
    "# Convert fake_cvec into a DataFrame\n",
    "not_fake_cvec_df = pd.DataFrame(not_fake_cvec.toarray(),\n",
    "                                columns=cv.get_feature_names())\n",
    "# Inspect head of Not Fake Titles cvec\n",
    "print(not_fake_cvec_df.shape)"
   ]
  },
  {
   "cell_type": "markdown",
   "metadata": {},
   "source": [
    "Top 5 Fake bigrams"
   ]
  },
  {
   "cell_type": "code",
   "execution_count": 43,
   "metadata": {},
   "outputs": [
    {
     "data": {
      "image/png": "[encoded data removed]",
      "text/plain": [
       "<Figure size 648x360 with 1 Axes>"
      ]
     },
     "metadata": {
      "needs_background": "light"
     },
     "output_type": "display_data"
    }
   ],
   "source": [
    "fake_wc = fake_cvec_df.sum(axis = 0)\n",
    "fake_top_5 = fake_wc.sort_values(ascending=False).head(5)\n",
    "\n",
    "# Call function\n",
    "bar_plot(fake_top_5.values, fake_top_5.index, 'Top 5 bigrams on r/Fake Data', 'r')"
   ]
  },
  {
   "cell_type": "markdown",
   "metadata": {},
   "source": [
    "Top 5 Genuine Bigrams"
   ]
  },
  {
   "cell_type": "code",
   "execution_count": 45,
   "metadata": {},
   "outputs": [
    {
     "data": {
      "image/png": "[encoded data removed]",
      "text/plain": [
       "<Figure size 648x360 with 1 Axes>"
      ]
     },
     "metadata": {
      "needs_background": "light"
     },
     "output_type": "display_data"
    }
   ],
   "source": [
    "n_wc = not_fake_cvec_df.sum(axis = 0)\n",
    "nfake_top_5 = nfake_wc.sort_values(ascending=False).head(5)\n",
    "\n",
    "# Call function\n",
    "bar_plot(nfake_top_5.values, nfake_top_5.index, 'Top 5 bigrams on r/Genuine','b')\n"
   ]
  },
  {
   "cell_type": "markdown",
   "metadata": {},
   "source": [
    "Common bigrams between fake and non fake"
   ]
  },
  {
   "cell_type": "code",
   "execution_count": 47,
   "metadata": {},
   "outputs": [
    {
     "data": {
      "text/plain": [
       "{'year old'}"
      ]
     },
     "execution_count": 47,
     "metadata": {},
     "output_type": "execute_result"
    }
   ],
   "source": [
    "not_fake_5_list = set(nfake_top_5.index)\n",
    "fake_5_list = set(fake_top_5.index)\n",
    "\n",
    "# Return common words\n",
    "common_bigrams = fake_5_list.intersection(not_fake_5_list)\n",
    "common_bigrams = {'year old'}\n",
    "common_bigrams"
   ]
  },
  {
   "cell_type": "markdown",
   "metadata": {},
   "source": [
    "Take out 'man', 'new', 'old', 'people', 'say', 'trump', 'woman', 'year' from dataset as they can be seen in both fake and genuine"
   ]
  },
  {
   "cell_type": "markdown",
   "metadata": {},
   "source": [
    "To do that, create custom stopo words"
   ]
  },
  {
   "cell_type": "code",
   "execution_count": 48,
   "metadata": {},
   "outputs": [],
   "source": [
    "# Create lists \n",
    "custom = stop_words.ENGLISH_STOP_WORDS\n",
    "custom = list(custom)\n",
    "common_unigrams = list(common_unigrams)\n",
    "common_bigrams = list(common_bigrams)\n",
    "\n",
    "# Append unigrams to list \n",
    "for i in common_unigrams:\n",
    "    custom.append(i)\n",
    "\n",
    "    \n",
    "# Append bigrams to list \n",
    "for i in common_bigrams:\n",
    "    split_words = i.split(\" \")\n",
    "    for word in split_words:\n",
    "        custom.append(word)"
   ]
  },
  {
   "cell_type": "markdown",
   "metadata": {},
   "source": [
    "# Modeling"
   ]
  },
  {
   "cell_type": "markdown",
   "metadata": {},
   "source": [
    "Set up X and y"
   ]
  },
  {
   "cell_type": "code",
   "execution_count": 49,
   "metadata": {},
   "outputs": [],
   "source": [
    "X = dataset['title']\n",
    "y = dataset['fake']"
   ]
  },
  {
   "cell_type": "code",
   "execution_count": 53,
   "metadata": {},
   "outputs": [],
   "source": [
    "from sklearn.model_selection import train_test_split\n",
    "X_train, X_test, y_train, y_test = train_test_split(X,\n",
    "                                                    y,\n",
    "                                                    random_state=0,\n",
    "                                                    stratify=y)"
   ]
  },
  {
   "cell_type": "markdown",
   "metadata": {},
   "source": [
    "Using Multinomial Naive Bayes"
   ]
  },
  {
   "cell_type": "code",
   "execution_count": 54,
   "metadata": {},
   "outputs": [
    {
     "name": "stdout",
     "output_type": "stream",
     "text": [
      "0.8933901918976546\n"
     ]
    }
   ],
   "source": [
    "# MNB is the one giving the best result, hence only including it hereb\n",
    "from sklearn.naive_bayes import MultinomialNB\n",
    "#Instantiate the classifier and vectorizer\n",
    "nb = MultinomialNB(alpha = 0.36) # alpha is the smoothing parameter\n",
    "# alpha was determined using gridsearchcv\n",
    "# code not including here as I did it once. It takes time.\n",
    "# alpha was the only parameter deemed tweaking after gridSearchCV\n",
    "cvec = CountVectorizer(ngram_range= (1, 3))\n",
    "# Fit and transform the vectorizor\n",
    "cvec.fit(X_train)\n",
    "Xcvec_train = cvec.transform(X_train)\n",
    "Xcvec_test = cvec.transform(X_test)\n",
    "# Fit the classifier\n",
    "nb.fit(Xcvec_train,y_train)\n",
    "# Create the predictions for Y training data\n",
    "preds = nb.predict(Xcvec_test)\n",
    "print(nb.score(Xcvec_test, y_test))"
   ]
  },
  {
   "cell_type": "markdown",
   "metadata": {},
   "source": [
    "Evaluating the model using evaluation function\n",
    "Code taken from\n",
    "https://github.com/deltonmyalil/HeartDiseasePrediction/blob/master/HeartDiseasePrediction/HeartDiseasePredictionNotebook.ipynb"
   ]
  },
  {
   "cell_type": "code",
   "execution_count": 59,
   "metadata": {},
   "outputs": [],
   "source": [
    "# Evaluating the results\n",
    "# First, lets make a function to evaluate the results of prediction\n",
    "from sklearn.metrics import confusion_matrix\n",
    "# Precision = tp/(tp+fp) ie out of all predicted positive, how many actually have heartDisease\n",
    "from sklearn.metrics import precision_score\n",
    "# Recall = tp/(tp+fn) ie out of all heart disease patients, how many are detected by our MLalgo\n",
    "from sklearn.metrics import recall_score\n",
    "from sklearn.metrics import roc_curve, auc\n",
    "\n",
    "def evaluateModel(yTrue, yPredicted, modelName):\n",
    "    print(\"=====================================================\")\n",
    "    print(\"Result of prediction for the model - \", modelName)\n",
    "    confMatrix = confusion_matrix(yTrue, yPredicted)\n",
    "    print(\"Confusion Matrix\")\n",
    "    print(confMatrix)\n",
    "    precision = round(precision_score(yTrue, yPredicted), 4)\n",
    "    print(\"Precision is \", precision)\n",
    "    print(\"Out of all predicted as Heart Patients, {} percent actually have Heart Disease\".format(precision*100))\n",
    "    recall = round(recall_score(yTrue, yPredicted), 4)\n",
    "    print(\"Recall is \", recall)\n",
    "    print(\"Out of all actual heart patients, {0} is able to detect {1} percent of them\".format(modelName, recall*100))\n",
    "    print(\"Drawing the ROC\")\n",
    "    fpr, tpr, thresholds = roc_curve(yPredicted, yTrue)\n",
    "    roc_auc = round(auc(fpr, tpr), 3) # I only need three decimal places\n",
    "    plt.figure(figsize=(10, 6))\n",
    "    plt.plot(fpr, tpr, color='darkorange', lw=1, label=\"{0}, area={1}\".format(modelName, roc_auc))\n",
    "    plt.plot([0, 1], [0, 1], color='blue', lw=1, linestyle='--') # Apparently this is line between (0,0) and (1,1)\n",
    "    plt.xlim([0.0, 1.0])\n",
    "    plt.ylim([0.0, 1.05])\n",
    "    plt.xlabel(\"Flase Positive Rate\")\n",
    "    plt.ylabel(\"True Positive Rate\")\n",
    "    plt.title(\"Receiver Operating Characteristic for {}\".format(modelName))\n",
    "    plt.legend(loc=\"lower right\")\n",
    "    plt.show()\n",
    "    print(\"=====================================================\")"
   ]
  },
  {
   "cell_type": "code",
   "execution_count": 60,
   "metadata": {
    "scrolled": true
   },
   "outputs": [
    {
     "name": "stdout",
     "output_type": "stream",
     "text": [
      "=====================================================\n",
      "Result of prediction for the model -  MultinomialNB\n",
      "Confusion Matrix\n",
      "[[2688  330]\n",
      " [ 370 3178]]\n",
      "Precision is  0.9059\n",
      "Out of all predicted as Heart Patients, 90.59 percent actually have Heart Disease\n",
      "Recall is  0.8957\n",
      "Out of all actual heart patients, MultinomialNB is able to detect 89.57000000000001 percent of them\n",
      "Drawing the ROC\n"
     ]
    },
    {
     "data": {
      "image/png": "[encoded data removed]",
      "text/plain": [
       "<Figure size 720x432 with 1 Axes>"
      ]
     },
     "metadata": {
      "needs_background": "light"
     },
     "output_type": "display_data"
    },
    {
     "name": "stdout",
     "output_type": "stream",
     "text": [
      "=====================================================\n"
     ]
    }
   ],
   "source": [
    "evaluateModel(y_test, preds, 'MultinomialNB')"
   ]
  },
  {
   "cell_type": "markdown",
   "metadata": {},
   "source": [
    "# Conclusion"
   ]
  },
  {
   "cell_type": "markdown",
   "metadata": {},
   "source": [
    "We were able to extract data (a very small part from the 4.1 GB file which is still growing) using a third person API created by github user cdmalon and could perform EDA on them to find out which words (unigrams and digrams) were most common in fake and genuine reports and articles. We were able to train multiple models, of which Multinomial Naive Bayes showed the best AUC.<br>\n",
    "The chief drawback was that traditional computers are not fit to work with the dataset as a whole. Hence we did EDA and modeling on the title only. Moreover, while performing EDA and subsequent modeling, we had to drop a large chunk of the data further to make np.toarray() function work inside the count vectorize function."
   ]
  },
  {
   "cell_type": "markdown",
   "metadata": {},
   "source": [
    "# References"
   ]
  },
  {
   "cell_type": "markdown",
   "metadata": {},
   "source": [
    "https://github.com/cdmalon/fever2018-retrieval/tree/90a07fe85b418de5ab62de8eaa2572df0d93f51e\n",
    "https://scikit-learn.org/stable/modules/generated/sklearn.naive_bayes.MultinomialNB.html\n",
    "www.fever.ai\n",
    "https://github.com/deltonmyalil/HeartDiseasePrediction"
   ]
  }
 ],
 "metadata": {
  "kernelspec": {
   "display_name": "Python 3",
   "language": "python",
   "name": "python3"
  },
  "language_info": {
   "codemirror_mode": {
    "name": "ipython",
    "version": 3
   },
   "file_extension": ".py",
   "mimetype": "text/x-python",
   "name": "python",
   "nbconvert_exporter": "python",
   "pygments_lexer": "ipython3",
   "version": "3.7.1"
  }
 },
 "nbformat": 4,
 "nbformat_minor": 2
}
